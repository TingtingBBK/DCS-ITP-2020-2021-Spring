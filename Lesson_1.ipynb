{
  "nbformat": 4,
  "nbformat_minor": 0,
  "metadata": {
    "colab": {
      "name": "Lesson 1",
      "provenance": [],
      "authorship_tag": "ABX9TyOhJO2vHyhgL6vCqTpBw9Ut",
      "include_colab_link": true
    },
    "kernelspec": {
      "name": "python3",
      "display_name": "Python 3"
    },
    "accelerator": "GPU"
  },
  "cells": [
    {
      "cell_type": "markdown",
      "metadata": {
        "id": "view-in-github",
        "colab_type": "text"
      },
      "source": [
        "<a href=\"https://colab.research.google.com/github/TingtingBBK/DCS-ITP-2020-2021-Spring/blob/main/Lesson_1.ipynb\" target=\"_parent\"><img src=\"https://colab.research.google.com/assets/colab-badge.svg\" alt=\"Open In Colab\"/></a>"
      ]
    },
    {
      "cell_type": "markdown",
      "metadata": {
        "id": "5BpdHu0lNk1_"
      },
      "source": [
        "Question 1: define a variable"
      ]
    },
    {
      "cell_type": "code",
      "metadata": {
        "colab": {
          "base_uri": "https://localhost:8080/"
        },
        "id": "jvdc1P16NUeN",
        "outputId": "a4bcb49a-e1f9-413a-8132-1c8e4f7527d9"
      },
      "source": [
        "a = 5\n",
        "print(a)"
      ],
      "execution_count": null,
      "outputs": [
        {
          "output_type": "stream",
          "text": [
            "5\n"
          ],
          "name": "stdout"
        }
      ]
    },
    {
      "cell_type": "markdown",
      "metadata": {
        "id": "y5j9rKjtOKna"
      },
      "source": [
        "### Question 2: Find Factors\n",
        "\n",
        "In this work, you are to find the factors of a given **number**. *A single star* means italics. \n",
        "\n",
        "$ a = b \\sim c$"
      ]
    },
    {
      "cell_type": "code",
      "metadata": {
        "id": "iF81TlFiNXuQ"
      },
      "source": [
        "import math\n",
        "def findFactors(n):\n",
        "    factors = []\n",
        "    for i in range(1, math.ceil(math.sqrt(n))+1):\n",
        "        if n//i == n/i and n//i != i:\n",
        "            factors.append(i)\n",
        "            factors.append(n//i)\n",
        "        elif n//i == n/i:\n",
        "            factors.append(i)\n",
        "    factors.sort()\n",
        "    return factors"
      ],
      "execution_count": null,
      "outputs": []
    },
    {
      "cell_type": "code",
      "metadata": {
        "colab": {
          "base_uri": "https://localhost:8080/"
        },
        "id": "H1YUhw0-NnDW",
        "outputId": "ecc2c81a-20ca-414c-b521-83690e2889c6"
      },
      "source": [
        "print(findFactors(100))"
      ],
      "execution_count": null,
      "outputs": [
        {
          "output_type": "stream",
          "text": [
            "[1, 2, 4, 5, 10, 20, 25, 50, 100]\n"
          ],
          "name": "stdout"
        }
      ]
    },
    {
      "cell_type": "code",
      "metadata": {
        "id": "0kWokfsoNnM-"
      },
      "source": [
        ""
      ],
      "execution_count": null,
      "outputs": []
    },
    {
      "cell_type": "code",
      "metadata": {
        "id": "szyw3eIoNnQq"
      },
      "source": [
        ""
      ],
      "execution_count": null,
      "outputs": []
    },
    {
      "cell_type": "code",
      "metadata": {
        "id": "LfXsqOsjNnWJ"
      },
      "source": [
        ""
      ],
      "execution_count": null,
      "outputs": []
    },
    {
      "cell_type": "markdown",
      "metadata": {
        "id": "0_bFjKUkNlDu"
      },
      "source": [
        ""
      ]
    },
    {
      "cell_type": "markdown",
      "metadata": {
        "id": "BxVdmjxNNlHW"
      },
      "source": [
        ""
      ]
    },
    {
      "cell_type": "markdown",
      "metadata": {
        "id": "ku7CJk3DNlMx"
      },
      "source": [
        ""
      ]
    }
  ]
}